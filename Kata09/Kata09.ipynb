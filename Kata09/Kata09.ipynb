{
 "cells": [
  {
   "cell_type": "markdown",
   "metadata": {},
   "source": [
    "# **Kata 09 Uso de funciones en Python**"
   ]
  },
  {
   "cell_type": "code",
   "execution_count": 10,
   "metadata": {},
   "outputs": [
    {
     "name": "stdout",
     "output_type": "stream",
     "text": [
      "El promedio de combustible de los 3 tanques es de: 75.0,\n",
      "    Combustible de tanque 1: 50 %\n",
      "    Combustible de tanque 2: 100 %\n",
      "    Combustible de tanque 3: 75 %\n",
      "El promedio de combustible de los 3 tanques es de: 78.0%,\n",
      "    Combustible de tanque 1: 88 %\n",
      "    Combustible de tanque 2: 76 %\n",
      "    Combustible de tanque 3: 70 %\n"
     ]
    }
   ],
   "source": [
    "# Ejercicio 1: Trabajr con argumentos en funciones\n",
    "# En este ejercicio, construirás un informe de combustible que requiere información de varias ubicaciones de combustible en todo el cohete.\n",
    "\n",
    "def average(tanque1,tanque2,tanque3):\n",
    "\n",
    "    promedio = (tanque1+tanque2+tanque3) / 3\n",
    "    return f\"\"\"El promedio de combustible de los 3 tanques es de: {promedio},\n",
    "    Combustible de tanque 1: {tanque1} %\n",
    "    Combustible de tanque 2: {tanque2} %\n",
    "    Combustible de tanque 3: {tanque3} %\"\"\"\n",
    "\n",
    "print(average(50,100,75))\n",
    "\n",
    "def average2(values):\n",
    "    total=sum(values)\n",
    "    numero_tanques = len(values)\n",
    "    return total / numero_tanques\n",
    "\n",
    "average2([80,85,81])\n",
    "\n",
    "def average(tanque1,tanque2,tanque3):\n",
    "    return f\"\"\"El promedio de combustible de los 3 tanques es de: {average2([tanque1,tanque2,tanque3])}%,\n",
    "    Combustible de tanque 1: {tanque1} %\n",
    "    Combustible de tanque 2: {tanque2} %\n",
    "    Combustible de tanque 3: {tanque3} %\"\"\"\n",
    "\n",
    "print(average(88,76,70))"
   ]
  },
  {
   "cell_type": "code",
   "execution_count": 17,
   "metadata": {},
   "outputs": [
    {
     "name": "stdout",
     "output_type": "stream",
     "text": [
      "\n",
      "    Mision a Luna\n",
      "    Tiempo total de vuelo 65 minutos\n",
      "    Combustible total 50000 galones\n",
      "\n",
      "    Mision a: Luna\n",
      "    Tiempo total de vuelo: 76 minutos\n",
      "    Combustible total: 50000\n",
      "    \n",
      "tanque externo --> 20000 galones left\n",
      "tanque intero --> 30000 galones left\n"
     ]
    }
   ],
   "source": [
    "# Ejercicio 2: Trabajo con argumentos de palabra clave\n",
    "# En este ejercicio, construirás un informe de cohete que requiere varias piezas de información, como el tiempo hasta el destino, el combustible a la izquierda y el nombre del destino. Comienza por crear una función que creará un informe preciso de la misión:\n",
    "\n",
    "\n",
    "# Función con un informe preciso de la misión. Considera hora de prelanzamiento, tiempo de vuelo, destino, tanque externo y tanque interno\n",
    "def informe(prelanzamiento, tiempo_vuelo, destino, tanque_externo, tanque_interno):\n",
    "    return f\"\"\"\n",
    "    Mision a {destino}\n",
    "    Tiempo total de vuelo {prelanzamiento + tiempo_vuelo} minutos\n",
    "    Combustible total {tanque_externo + tanque_interno} galones\"\"\"\n",
    "\n",
    "print(informe(14,51,'Luna',20000,30000))\n",
    "\n",
    "def informe(destino,*tiempo,**tanques):\n",
    "    reporte = f\"\"\"\n",
    "    Mision a: {destino}\n",
    "    Tiempo total de vuelo: {sum(tiempo)} minutos\n",
    "    Combustible total: {sum(tanques.values())}\n",
    "    \"\"\"\n",
    "\n",
    "    for tank_name,gallons in tanques.items():\n",
    "        reporte += f\"\\ntanque {tank_name} --> {gallons} galones left\"\n",
    "    return reporte\n",
    "\n",
    "print(informe('Luna',10,15,51,externo=20000,intero=30000))"
   ]
  }
 ],
 "metadata": {
  "interpreter": {
   "hash": "b5d0eaebb3584a8815ca6ef48f7f05dacd9c4ddcec74991bd5e63d4eeeaf80ba"
  },
  "kernelspec": {
   "display_name": "Python 3.10.2 64-bit",
   "language": "python",
   "name": "python3"
  },
  "language_info": {
   "codemirror_mode": {
    "name": "ipython",
    "version": 3
   },
   "file_extension": ".py",
   "mimetype": "text/x-python",
   "name": "python",
   "nbconvert_exporter": "python",
   "pygments_lexer": "ipython3",
   "version": "3.10.2"
  },
  "orig_nbformat": 4
 },
 "nbformat": 4,
 "nbformat_minor": 2
}

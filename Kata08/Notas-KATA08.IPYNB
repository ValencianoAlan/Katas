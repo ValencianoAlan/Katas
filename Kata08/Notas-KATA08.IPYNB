{
 "cells": [
  {
   "cell_type": "markdown",
   "metadata": {},
   "source": [
    "# **Notas Kata 08 - Diccionarios**"
   ]
  },
  {
   "cell_type": "code",
   "execution_count": 2,
   "metadata": {},
   "outputs": [
    {
     "name": "stdout",
     "output_type": "stream",
     "text": [
      "Earth\n",
      "Earth\n"
     ]
    }
   ],
   "source": [
    "#Lectura de Valores\n",
    "planet = {\n",
    "    'name' : 'Earth',\n",
    "    'moons' : 1\n",
    "}\n",
    "\n",
    "print(planet.get('name'))\n",
    "print(planet['name'])"
   ]
  },
  {
   "cell_type": "code",
   "execution_count": 6,
   "metadata": {},
   "outputs": [
    {
     "name": "stdout",
     "output_type": "stream",
     "text": [
      "Jupiter\n"
     ]
    }
   ],
   "source": [
    "# Modificacion de Valores\n",
    "planet.update({'name' : 'Makemake'})\n",
    "# planet['name'] = 'Makemake'\n",
    "\n",
    "planet.update({\n",
    "    'name' : 'Jupiter',\n",
    "    'moons' : 79\n",
    "})\n",
    "\n",
    "print(planet['name'])"
   ]
  },
  {
   "cell_type": "code",
   "execution_count": null,
   "metadata": {},
   "outputs": [],
   "source": [
    "#Adicion y eliminacion de claves\n",
    "planet['orbital period'] = 4333\n",
    "\n",
    "# el diccionario planet ahora contiene: {\n",
    "#   name: 'jupiter'\n",
    "#   moons: 79\n",
    "#   orbital period: 4333\n",
    "# }\n",
    "\n",
    "planet.pop('orbital period')\n",
    "# el diccionario planet ahora contiene: {\n",
    "#   name: 'jupiter'\n",
    "#   moons: 79\n",
    "# }"
   ]
  },
  {
   "cell_type": "code",
   "execution_count": 6,
   "metadata": {},
   "outputs": [
    {
     "name": "stdout",
     "output_type": "stream",
     "text": [
      "Earth polar diameter: 133709\n"
     ]
    }
   ],
   "source": [
    "#Tipos de datos complejos\n",
    "planet = {\n",
    "    'name' : 'Earth',\n",
    "    'moons' : 1\n",
    "}\n",
    "\n",
    "planet['diameter (km)'] = {\n",
    "    'polar' : 133709,\n",
    "    'equatorial' : 142984\n",
    "}\n",
    "\n",
    "print(f'{planet[\"name\"]} polar diameter: {planet[\"diameter (km)\"][\"polar\"]}')"
   ]
  },
  {
   "cell_type": "code",
   "execution_count": 9,
   "metadata": {},
   "outputs": [
    {
     "name": "stdout",
     "output_type": "stream",
     "text": [
      "october : 3.5cm\n",
      "november : 4.3cm\n",
      "december : 2.1cm\n"
     ]
    }
   ],
   "source": [
    "#Recuperación de todas las claves y valores\n",
    "rainfall = {\n",
    "    'october' : 3.5,\n",
    "    'november' : 4.3,\n",
    "    'december' : 2.1\n",
    "}\n",
    "\n",
    "for key in rainfall.keys():\n",
    "    print(f'{key} : {rainfall[key]}cm')\n"
   ]
  },
  {
   "cell_type": "code",
   "execution_count": 10,
   "metadata": {},
   "outputs": [
    {
     "name": "stdout",
     "output_type": "stream",
     "text": [
      "There was 9.9cm in the last quarter\n"
     ]
    }
   ],
   "source": [
    "# Recuperar todos los valores de un diccionario\n",
    "#Total de precipitaciones 0\n",
    "total_rainfall = 0\n",
    "\n",
    "# Para cada valor en los valores de rainfall\n",
    "for value in rainfall.values():\n",
    "    \n",
    "    # El total de las precipitaciones será igual a ese mismo + el valor que se está iterando\n",
    "\n",
    "    total_rainfall = total_rainfall + value\n",
    "\n",
    "# Muestra 'Hay un total de precipitaciones (el valor total) en centímetros en el último cuarto (haciendo referencia al cuarto del año)\n",
    "\n",
    "print(f'There was {total_rainfall}cm in the last quarter')\n",
    "\n",
    "# Salida:\n",
    "# There was 10.8cm in the last quarter"
   ]
  }
 ],
 "metadata": {
  "interpreter": {
   "hash": "b5d0eaebb3584a8815ca6ef48f7f05dacd9c4ddcec74991bd5e63d4eeeaf80ba"
  },
  "kernelspec": {
   "display_name": "Python 3.10.2 64-bit",
   "language": "python",
   "name": "python3"
  },
  "language_info": {
   "codemirror_mode": {
    "name": "ipython",
    "version": 3
   },
   "file_extension": ".py",
   "mimetype": "text/x-python",
   "name": "python",
   "nbconvert_exporter": "python",
   "pygments_lexer": "ipython3",
   "version": "3.10.2"
  },
  "orig_nbformat": 4
 },
 "nbformat": 4,
 "nbformat_minor": 2
}

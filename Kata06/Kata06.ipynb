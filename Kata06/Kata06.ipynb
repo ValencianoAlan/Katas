{
 "cells": [
  {
   "cell_type": "markdown",
   "metadata": {},
   "source": [
    "# **Kata 06**\n",
    "\n",
    "**Ejercicio 1:** Crear y usar listas de Python"
   ]
  },
  {
   "cell_type": "code",
   "execution_count": 6,
   "metadata": {},
   "outputs": [
    {
     "name": "stdout",
     "output_type": "stream",
     "text": [
      "Hay un total de: 9 planetas\n",
      "El planeta numero 1 es: Mercury\n",
      "El planeta numero 2 es: Venus\n",
      "El planeta numero 3 es: Earth\n",
      "El planeta numero 4 es: Mars\n",
      "El planeta numero 5 es: Jupiter\n",
      "El planeta numero 6 es: Saturn\n",
      "El planeta numero 7 es: Uranus\n",
      "El planeta numero 8 es: Neptune\n",
      "El planeta numero 9 es: Plutón\n"
     ]
    }
   ],
   "source": [
    "#Se crea lista de planetas\n",
    "planets = ['Mercury', 'Venus', 'Earth', 'Mars', 'Jupiter', 'Saturn', 'Uranus', 'Neptune']\n",
    "\n",
    "#Se agrega Plutón a la lista\n",
    "planets.append('Plutón')\n",
    "\n",
    "#Se muestra el numero total de planetas\n",
    "number_of_planets = len(planets)\n",
    "print(\"Hay un total de: \" + str(number_of_planets) + ' planetas')\n",
    "\n",
    "#Se crea un ciclo donde muestra el numero y el planeta\n",
    "for i in range(0,len(planets)):\n",
    "    print ('El planeta numero ' + str(i+1) + ' es: ' + str(planets[i]))"
   ]
  },
  {
   "cell_type": "markdown",
   "metadata": {},
   "source": [
    "**Ejercicio 2:** Trabajando con datos de una lista\n",
    "\n",
    "Nota: Usar slices para recuperar partes de una lista"
   ]
  },
  {
   "cell_type": "code",
   "execution_count": 19,
   "metadata": {},
   "outputs": [
    {
     "name": "stdout",
     "output_type": "stream",
     "text": [
      "El planeta Jupiter esta en la posicion 5\n",
      "Aqui estan los planetas mas cercanos que Jupiter\n",
      "['Mercury', 'Venus', 'Earth', 'Mars']\n",
      "Aqui estan los planetas mas alejados que Jupiter\n",
      "['Saturn', 'Uranus', 'Neptune']\n"
     ]
    }
   ],
   "source": [
    "#Se crea lista de planetas\n",
    "planets = ['Mercury', 'Venus', 'Earth', 'Mars', 'Jupiter', 'Saturn', 'Uranus', 'Neptune']\n",
    "\n",
    "#Se ingresa el nombre de un planeta\n",
    "planeta = input(\"Ingresa el nombre de un planeta: \")\n",
    "\n",
    "#Se busca el planeta y su posicion\n",
    "buscar_planeta = planets.index(planeta)\n",
    "print(\"El planeta \" + planeta + \" esta en la posicion \" + str(buscar_planeta+1))\n",
    "\n",
    "#Planetas mas cercanos al sol\n",
    "print (\"Aqui estan los planetas mas cercanos que\",planeta)\n",
    "print(planets[0:buscar_planeta])\n",
    "\n",
    "#Planetas mas alejados del sol\n",
    "print (\"Aqui estan los planetas mas alejados que\",planeta)\n",
    "print(planets[buscar_planeta + 1:])"
   ]
  }
 ],
 "metadata": {
  "interpreter": {
   "hash": "b5d0eaebb3584a8815ca6ef48f7f05dacd9c4ddcec74991bd5e63d4eeeaf80ba"
  },
  "kernelspec": {
   "display_name": "Python 3.10.2 64-bit",
   "language": "python",
   "name": "python3"
  },
  "language_info": {
   "codemirror_mode": {
    "name": "ipython",
    "version": 3
   },
   "file_extension": ".py",
   "mimetype": "text/x-python",
   "name": "python",
   "nbconvert_exporter": "python",
   "pygments_lexer": "ipython3",
   "version": "3.10.2"
  },
  "orig_nbformat": 4
 },
 "nbformat": 4,
 "nbformat_minor": 2
}

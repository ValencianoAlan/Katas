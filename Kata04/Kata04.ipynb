{
 "cells": [
  {
   "cell_type": "markdown",
   "metadata": {},
   "source": [
    "# Kata04\n",
    "### Ejercicio 1: Transformar Cadenas"
   ]
  },
  {
   "cell_type": "code",
   "execution_count": 24,
   "metadata": {},
   "outputs": [
    {
     "name": "stdout",
     "output_type": "stream",
     "text": [
      "\n",
      "On average, the Moon moves 4cm away from the Earth every year\n",
      "The highest daylight temperature of the Moon is 127 Celsius.\n"
     ]
    }
   ],
   "source": [
    "\n",
    "text = \"\"\"Interesting facts about the Moon. The Moon is Earth's only satellite. There are several interesting facts about the Moon and how it affects life here on Earth. \n",
    "On average, the Moon moves 4cm away from the Earth every year. This yearly drift is not significant enough to cause immediate effects on Earth. The highest daylight temperature of the Moon is 127 C.\"\"\"\n",
    "\n",
    "#Divide el texto\n",
    "partes = text.split('. ')\n",
    "partes\n",
    "\n",
    "#Definir Palabras\n",
    "palabras_Clave = [\"average\", \"temperature\", \"distance\"]\n",
    "\n",
    "#Imprimir oraciones relacionadas\n",
    "for oracion in partes:\n",
    "    for palabra_Clave in palabras_Clave:\n",
    "        if palabra_Clave in oracion:\n",
    "            print(oracion.replace('C', 'Celsius'))\n",
    "            break\n",
    "\n",
    "\n",
    "\n",
    "    \n"
   ]
  },
  {
   "cell_type": "markdown",
   "metadata": {},
   "source": [
    "### Ejercicio 2: Formateando Cadenas\n"
   ]
  },
  {
   "cell_type": "code",
   "execution_count": 47,
   "metadata": {},
   "outputs": [
    {
     "name": "stdout",
     "output_type": "stream",
     "text": [
      "\n",
      "Gravity Facts About Moon\n",
      "-----------------------------------------------\n",
      "Nombre del Planeta: Earth \n",
      "Gravedad en Moon es: 1.6199999999999999 m/s2\n"
     ]
    }
   ],
   "source": [
    "# Datos con los que vas a trabajar\n",
    "name = \"Moon\"\n",
    "gravity = 0.00162 # in kms\n",
    "planet = \"Earth\"\n",
    "\n",
    "# Creamos el título\n",
    "titulo = f'Gravity facts about {name}'\n",
    "\n",
    "# Creamos la platinlla\n",
    "inf = f\"\"\"Nombre del Planeta: {planet} \\nGravedad en {name} es: {gravity * 1000} m/s2\"\"\"\n",
    "\n",
    "#Union de ambas cadenas\n",
    "plantilla = f\"\"\"{titulo.title()} {inf}\"\"\"\n",
    "\n",
    "#Creacion de nueva plantilla\n",
    "nueva_plantilla = f\"\"\"\n",
    "{titulo.title()}\n",
    "-----------------------------------------------\n",
    "{inf}\"\"\"\n",
    "\n",
    "print(nueva_plantilla)\n"
   ]
  }
 ],
 "metadata": {
  "interpreter": {
   "hash": "b5d0eaebb3584a8815ca6ef48f7f05dacd9c4ddcec74991bd5e63d4eeeaf80ba"
  },
  "kernelspec": {
   "display_name": "Python 3.10.2 64-bit",
   "language": "python",
   "name": "python3"
  },
  "language_info": {
   "codemirror_mode": {
    "name": "ipython",
    "version": 3
   },
   "file_extension": ".py",
   "mimetype": "text/x-python",
   "name": "python",
   "nbconvert_exporter": "python",
   "pygments_lexer": "ipython3",
   "version": "3.10.2"
  },
  "orig_nbformat": 4
 },
 "nbformat": 4,
 "nbformat_minor": 2
}
